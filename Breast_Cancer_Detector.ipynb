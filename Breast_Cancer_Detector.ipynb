{
 "cells": [
  {
   "cell_type": "markdown",
   "metadata": {},
   "source": [
    "# Breast Cancer Detection Using Machine Learning\n",
    "This project is ddealing with mammographic images which are processed and then fed into machine learning algorithms which are trained.\n",
    "Every algorithm is trained using the same training dataset\n",
    "After training, the algorithms are tested independently using the testing dataset (A set of images that the algorithm has not seen before) and it's performance is determined.\n",
    "The best performing algorithm is chosen for adoption."
   ]
  },
  {
   "cell_type": "markdown",
   "metadata": {},
   "source": [
    "# Importing necessary packages"
   ]
  },
  {
   "cell_type": "code",
   "execution_count": 30,
   "metadata": {
    "pycharm": {
     "is_executing": false
    }
   },
   "outputs": [],
   "source": [
    "import os\n",
    "import copy\n",
    "import skimage\n",
    "import cv2 as cv\n",
    "import numpy as np\n",
    "import pandas as pd\n",
    "from tqdm import tqdm\n",
    "import skimage.feature\n",
    "from sklearn.metrics import accuracy_score\n",
    "from sklearn.metrics import confusion_matrix\n",
    "import matplotlib.pyplot as plt; plt.rcdefaults()\n",
    "from sklearn.model_selection import cross_validate"
   ]
  },
  {
   "cell_type": "code",
   "execution_count": 31,
   "metadata": {
    "pycharm": {
     "is_executing": false
    }
   },
   "outputs": [],
   "source": [
    "path1 = \"C:/Users/SIFA/PycharmProjects/glcm/images\"\n",
    "img_data = pd.read_csv('C:/Users/SIFA/PycharmProjects/glcm/Final_data.csv', header=None)\n",
    "img_data = img_data[:]\n",
    "data_size = img_data.shape[0]\n",
    "img_data.head()\n",
    "IMG_SIZE = 50"
   ]
  },
  {
   "cell_type": "code",
   "execution_count": 32,
   "metadata": {
    "pycharm": {
     "is_executing": false
    }
   },
   "outputs": [],
   "source": [
    "def get_glcm_features(angle_code, dist,Z): ## angle_code 0-->1, 45-->2, 90-->3, 135-->4, 180-->5\n",
    "    X = copy.deepcopy(Z)\n",
    "    fa1, fb1, fc1, fd1 = np.zeros(data_size), np.zeros(data_size), np.zeros(data_size), np.zeros(data_size)\n",
    "    for img in tqdm(os.listdir(path1)):\n",
    "        path = os.path.join(path1, img)\n",
    "        img = cv.resize(cv.imread(path, cv.IMREAD_GRAYSCALE), (IMG_SIZE, IMG_SIZE))\n",
    "        img = cv.GaussianBlur(img, (11, 11), 0)\n",
    "        if angle_code == 1:\n",
    "            glcm = skimage.feature.greycomatrix(img, [dist], [0], normed=True)\n",
    "        elif angle_code==2:\n",
    "            glcm = skimage.feature.greycomatrix(img, [dist], [-dist], normed=True)\n",
    "        elif angle_code==3:\n",
    "            glcm = skimage.feature.greycomatrix(img, [0], [-dist], normed=True)\n",
    "        elif angle_code==4:\n",
    "            glcm = skimage.feature.greycomatrix(img, [-dist], [-dist], normed=True)\n",
    "        elif angle_code==5:\n",
    "            glcm = skimage.feature.greycomatrix(img, [-dist], [0], normed=True)\n",
    "\n",
    "        fa1[i] = skimage.feature.greycoprops(glcm, 'contrast')[0][0]\n",
    "        fb1[i] = skimage.feature.greycoprops(glcm, 'energy')[0][0]\n",
    "        fc1[i] = skimage.feature.greycoprops(glcm, 'homogeneity')[0][0]\n",
    "        fd1[i] = skimage.feature.greycoprops(glcm, 'correlation')[0][0]\n",
    "    X['contrast_ang'+str(angle_code)+'_d'+str(dist)],X['energy_ang'+str(angle_code)+'_d'+str(dist)],X['homogeneity_ang'+str(angle_code)+'_d'+str(dist)],X['correlation_ang'+str(angle_code)+'_d'+str(dist)]=fa1,fb1,fc1,fd1\n",
    "    np.save(\"train_data.npy\", X)\n",
    "    return X"
   ]
  },
  {
   "cell_type": "code",
   "execution_count": 33,
   "metadata": {
    "pycharm": {
     "is_executing": false
    }
   },
   "outputs": [],
   "source": [
    "def get_accuracy_cvset2(model, x_train, x_test, y_train, y_test):\n",
    "    model.fit(x_train, y_train)\n",
    "    ypred = model.predict(x_test)\n",
    "    y_test = np.array(y_test)\n",
    "    mis=0\n",
    "    for i in range(len(ypred)) : mis += abs(ypred[i]-y_test[i])\n",
    "    #print len(ypred[ypred==1])\n",
    "    #return (len(ypred)-mis)/(len(ypred)+0.00)\n",
    "    conf_mtr = confusion_matrix(y_test, ypred)\n",
    "    accu = float(conf_mtr[0][0]+conf_mtr[1][1])/(len(ypred))\n",
    "    sens = float(conf_mtr[1][1])/float(conf_mtr[1][0]+conf_mtr[1][1])\n",
    "    spec = float(conf_mtr[0][0])/float(conf_mtr[0][0]+conf_mtr[0][1])\n",
    "    return accu, sens, spec, conf_mtr, ypred"
   ]
  },
  {
   "cell_type": "code",
   "execution_count": 34,
   "metadata": {
    "pycharm": {
     "is_executing": false
    }
   },
   "outputs": [],
   "source": [
    "def get_accuracy_cvset(model, x_train, x_test, y_train, y_test) :\n",
    "    model.fit(x_train, y_train)\n",
    "    ypred = model.predict(x_test)\n",
    "    y_test = np.array(y_test)\n",
    "    mis=0\n",
    "    for i in range(len(ypred)): mis += abs(ypred[i]-y_test[i])\n",
    "    #print len(ypred[ypred==1])\n",
    "    return (len(ypred)-mis)/(len(ypred)+0.00)"
   ]
  },
  {
   "cell_type": "code",
   "execution_count": 35,
   "metadata": {
    "pycharm": {
     "is_executing": false
    }
   },
   "outputs": [],
   "source": [
    "def get_accuracy(X, y, trees):\n",
    "    model = RandomForestClassifier(n_estimators=trees)\n",
    "    return cross_validate(model, X, y, cv=5)"
   ]
  },
  {
   "cell_type": "markdown",
   "metadata": {},
   "source": [
    "# Feature Extraction\n",
    "\n",
    "Here, the image dataset is loaded for feature extraction.\n",
    "The features are saved in an NumPy array called train_data.npy to avoid rerunning the feature extraction process every time model is run"
   ]
  },
  {
   "cell_type": "code",
   "execution_count": 36,
   "metadata": {
    "pycharm": {
     "is_executing": false
    }
   },
   "outputs": [
    {
     "name": "stdout",
     "output_type": "stream",
     "text": [
      "Training data loaded!\n"
     ]
    }
   ],
   "source": [
    "Y = img_data[3].apply(lambda x: 0 if type(x) == float else 1)\n",
    "X = pd.DataFrame()\n",
    "X2 = pd.DataFrame()\n",
    "L = []\n",
    "lst = []\n",
    "if os.path.exists('{}.npy'.format(\"train_data\")):\n",
    "    X = np.load(\"train_data.npy\")\n",
    "    print('Training data loaded!')\n",
    "    lst.append(get_accuracy(X, Y, 100))\n",
    "else:\n",
    "    for i in range(1, 4):\n",
    "        for j in range(1, 30):\n",
    "            X = get_glcm_features(i, j, pd.DataFrame())\n",
    "            X2 = get_glcm_features(i, j, X2)\n",
    "            lst.append(get_accuracy(X, Y, 100))\n",
    "L.append(lst)"
   ]
  },
  {
   "cell_type": "markdown",
   "metadata": {},
   "source": [
    "# Spliting Dataset into Training and Testing sets\n",
    "Tatal images dataset: 960 images\n",
    "Training set: 720 images\n",
    "Testing set: 240 images"
   ]
  },
  {
   "cell_type": "code",
   "execution_count": 37,
   "metadata": {
    "pycharm": {
     "is_executing": false
    }
   },
   "outputs": [],
   "source": [
    "X_train = X[:-240]\n",
    "X_test = X[-240:]\n",
    "y_train = Y[:-240]\n",
    "y_test = Y[-240:]"
   ]
  },
  {
   "cell_type": "code",
   "execution_count": 38,
   "metadata": {
    "pycharm": {
     "is_executing": false
    }
   },
   "outputs": [],
   "source": [
    "from sklearn.tree import ExtraTreeClassifier\n",
    "from sklearn.ensemble import AdaBoostClassifier\n",
    "model6 = AdaBoostClassifier(n_estimators=500)\n",
    "model6.fit(X_train, y_train)\n",
    "x = 100 * model6.feature_importances_+0.1\n",
    "#print(x)"
   ]
  },
  {
   "cell_type": "markdown",
   "metadata": {},
   "source": [
    "# 1. Logistic Regression Algorithm"
   ]
  },
  {
   "cell_type": "code",
   "execution_count": 40,
   "metadata": {
    "pycharm": {
     "is_executing": false
    }
   },
   "outputs": [
    {
     "name": "stdout",
     "output_type": "stream",
     "text": [
      "Logistic Regression:  0.6833333333333333\n"
     ]
    }
   ],
   "source": [
    "#Using Logistic Regression Algorithm to the Training Set\n",
    "\n",
    "from sklearn.linear_model import LogisticRegression\n",
    "classifier = LogisticRegression(tol=1e-3, random_state=0, solver='lbfgs', max_iter=10000)\n",
    "classifier.fit(X_train, y_train)\n",
    "\n",
    "Y_pred_1 = classifier.predict(X_test)\n",
    "acc1 = accuracy_score(y_test, Y_pred_1)\n",
    "print('Logistic Regression: ', acc1)"
   ]
  },
  {
   "cell_type": "markdown",
   "metadata": {},
   "source": [
    "# 2. Naïve Bayes Algorithm"
   ]
  },
  {
   "cell_type": "code",
   "execution_count": 41,
   "metadata": {
    "pycharm": {
     "is_executing": false
    }
   },
   "outputs": [
    {
     "name": "stdout",
     "output_type": "stream",
     "text": [
      "Naïve Bayes Algorithm: 0.6333333333333333\n"
     ]
    }
   ],
   "source": [
    "#Using GaussianNB method of naïve_bayes class to use Naïve Bayes Algorithm\n",
    "\n",
    "from sklearn.naive_bayes import GaussianNB\n",
    "classifier = GaussianNB(var_smoothing=1e1)\n",
    "classifier.fit(X_train, y_train)\n",
    "\n",
    "Y_pred_2 = classifier.predict(X_test)\n",
    "acc2 = accuracy_score(y_test, Y_pred_2)\n",
    "print('Naïve Bayes Algorithm: ' + str(accuracy_score(y_test, Y_pred_2)))"
   ]
  },
  {
   "cell_type": "markdown",
   "metadata": {},
   "source": [
    "# 3. Decision Tree Algorithm"
   ]
  },
  {
   "cell_type": "code",
   "execution_count": 69,
   "metadata": {
    "pycharm": {
     "is_executing": false
    }
   },
   "outputs": [
    {
     "name": "stdout",
     "output_type": "stream",
     "text": [
      "Decision Tree Algorithm: 1.0\n"
     ]
    }
   ],
   "source": [
    "#Using DecisionTreeClassifier of tree class to use Decision Tree Algorithm\n",
    "\n",
    "from sklearn.tree import DecisionTreeClassifier\n",
    "classifier = DecisionTreeClassifier(criterion='entropy', random_state=0)\n",
    "classifier.fit(X_train, y_train)\n",
    "\n",
    "Y_pred_3 = classifier.predict(X_test)\n",
    "acc3 = accuracy_score(y_test, Y_pred_3)\n",
    "print('Decision Tree Algorithm: ' + str(accuracy_score(y_test, Y_pred_3)))"
   ]
  },
  {
   "cell_type": "markdown",
   "metadata": {},
   "source": [
    "# 4. k-Nearest Neighbor algorithm"
   ]
  },
  {
   "cell_type": "code",
   "execution_count": 43,
   "metadata": {
    "pycharm": {
     "is_executing": false
    }
   },
   "outputs": [
    {
     "name": "stdout",
     "output_type": "stream",
     "text": [
      "KNN: 0.7583333333333333\n"
     ]
    }
   ],
   "source": [
    "#Using KNeighborsClassifier Method of neighbors class to use Nearest Neighbor algorithm\n",
    "\n",
    "from sklearn.neighbors import KNeighborsClassifier\n",
    "classifier = KNeighborsClassifier(n_neighbors=3, metric='minkowski', p=6)\n",
    "classifier.fit(X_train, y_train)\n",
    "\n",
    "Y_pred_4 = classifier.predict(X_test)\n",
    "acc4 = accuracy_score(y_test, Y_pred_4)\n",
    "print('KNN: ' + str(accuracy_score(y_test, Y_pred_4)))"
   ]
  },
  {
   "cell_type": "markdown",
   "metadata": {},
   "source": [
    "# 5. SVM (Support Vector Machine) Algorithm"
   ]
  },
  {
   "cell_type": "code",
   "execution_count": 44,
   "metadata": {
    "pycharm": {
     "is_executing": false
    }
   },
   "outputs": [
    {
     "name": "stdout",
     "output_type": "stream",
     "text": [
      "Kernel SVM: 1.0\n"
     ]
    }
   ],
   "source": [
    "#Using SVC method of svm class to use Kernel SVM Algorithm\n",
    "\n",
    "from sklearn.svm import SVC\n",
    "classifier = SVC(kernel='rbf', gamma='auto', random_state=0)\n",
    "classifier.fit(X_train, y_train)\n",
    "\n",
    "Y_pred_5 = classifier.predict(X_test)\n",
    "acc5 = accuracy_score(y_test, Y_pred_5)\n",
    "print('Kernel SVM: ' + str(accuracy_score(y_test, Y_pred_5)))"
   ]
  },
  {
   "cell_type": "markdown",
   "metadata": {},
   "source": [
    "# 6. MLP (Multi-Layer Perceptron) Classifier"
   ]
  },
  {
   "cell_type": "code",
   "execution_count": 45,
   "metadata": {
    "pycharm": {
     "is_executing": false
    }
   },
   "outputs": [
    {
     "name": "stdout",
     "output_type": "stream",
     "text": [
      "MLP: 0.8916666666666667\n"
     ]
    }
   ],
   "source": [
    "#Using MLP Classifier\n",
    "\n",
    "from sklearn.preprocessing import StandardScaler\n",
    "from sklearn.neural_network import MLPClassifier\n",
    "\n",
    "scaler = StandardScaler()\n",
    "X_train_scaled = scaler.fit(X_train).transform(X_train)\n",
    "X_test_scaled = scaler.fit(X_test).transform(X_test)\n",
    "mlp = MLPClassifier(max_iter=1000, random_state=42)\n",
    "mlp.fit(X_train_scaled, y_train)\n",
    "\n",
    "Y_pred_6 = mlp.predict(X_test_scaled)\n",
    "acc6 = mlp.score(X_test_scaled, y_test)\n",
    "print('MLP: ' + str(mlp.score(X_test_scaled, y_test)))"
   ]
  },
  {
   "cell_type": "markdown",
   "metadata": {},
   "source": [
    "# 7. Random Forest Classification algorithm"
   ]
  },
  {
   "cell_type": "code",
   "execution_count": 46,
   "metadata": {
    "pycharm": {
     "is_executing": false
    }
   },
   "outputs": [
    {
     "name": "stdout",
     "output_type": "stream",
     "text": [
      "Random Forest Classification: 0.9958333333333333\n"
     ]
    }
   ],
   "source": [
    "#Using RandomForestClassifier method of ensemble class to use Random Forest Classification algorithm\n",
    "\n",
    "from sklearn.ensemble import RandomForestClassifier\n",
    "classifier = RandomForestClassifier(n_estimators=10, criterion='entropy', random_state=0)\n",
    "classifier.fit(X_train, y_train)\n",
    "\n",
    "Y_pred_7 = classifier.predict(X_test)\n",
    "acc7 = accuracy_score(y_test, Y_pred_7)\n",
    "print('Random Forest Classification: ' + str(accuracy_score(y_test, Y_pred_7)))"
   ]
  },
  {
   "cell_type": "code",
   "execution_count": 72,
   "metadata": {
    "pycharm": {
     "is_executing": false
    }
   },
   "outputs": [],
   "source": [
    "#plt.bar(range(X.shape[1]), x)\n",
    "#plt.xticks(np.arange(0, 51, 5))\n",
    "#plt.xlabel(\"Features\")\n",
    "#plt. ylim()\n",
    "#plt.xlim(0, 50)\n",
    "#plt.ylabel(\"Feature score\")\n",
    "#plt.show()"
   ]
  },
  {
   "cell_type": "markdown",
   "metadata": {},
   "source": [
    "# Sample prediction output based on the Kernel SVM classifier"
   ]
  },
  {
   "cell_type": "code",
   "execution_count": 54,
   "metadata": {
    "pycharm": {
     "is_executing": false
    }
   },
   "outputs": [
    {
     "data": {
      "image/png": "[encoded data removed]",
      "text/plain": [
       "<Figure size 640x480 with 12 Axes>"
      ]
     },
     "metadata": {},
     "output_type": "display_data"
    }
   ],
   "source": [
    "fig = plt.figure()\n",
    "img_name = list(img_data[0])\n",
    "lst = list(Y_pred_5)\n",
    "index = 719\n",
    "for i in range(len(img_data[:12])):\n",
    "    name = str(img_name[index + 1])+\".pgm\"\n",
    "    img = cv.resize(cv.imread(path1 + '/' + name, cv.IMREAD_GRAYSCALE), (IMG_SIZE, IMG_SIZE))\n",
    "    img = cv.GaussianBlur(img, (11, 11), 0)\n",
    "    \n",
    "    y = fig.add_subplot(3, 4, i + 1)\n",
    "    \n",
    "    if lst[i] == 1: str_label = 'Malignant'\n",
    "    else: str_label = 'Benign'\n",
    "    \n",
    "    y.imshow(img, cmap='gray')\n",
    "    plt.title(str_label)\n",
    "    \n",
    "    y.axes.get_xaxis().set_visible(False)\n",
    "    y.axes.get_yaxis().set_visible(False)\n",
    "    index += 1\n",
    "    \n",
    "plt.show()"
   ]
  },
  {
   "cell_type": "markdown",
   "metadata": {},
   "source": [
    "# Sample images of with the correct output"
   ]
  },
  {
   "cell_type": "code",
   "execution_count": 53,
   "metadata": {
    "pycharm": {
     "is_executing": false
    }
   },
   "outputs": [
    {
     "data": {
      "image/png": "[encoded data removed]",
      "text/plain": [
       "<Figure size 640x480 with 12 Axes>"
      ]
     },
     "metadata": {},
     "output_type": "display_data"
    }
   ],
   "source": [
    "fig = plt.figure()\n",
    "img_name = list(img_data[0])\n",
    "lst = list(y_test)\n",
    "index = 719\n",
    "for i in range(len(img_data[:12])):\n",
    "    name = str(img_name[index + 1])+\".pgm\"\n",
    "    img = cv.resize(cv.imread(path1 + '/' + name, cv.IMREAD_GRAYSCALE), (IMG_SIZE, IMG_SIZE))\n",
    "    img = cv.GaussianBlur(img, (11, 11), 0)\n",
    "    y = fig.add_subplot(3, 4, i + 1)\n",
    "    \n",
    "    if lst[i] == 1: str_label = 'Malignant'\n",
    "    else: str_label = 'Benign'\n",
    "    \n",
    "    y.imshow(img, cmap='gray')\n",
    "    plt.title(str_label)\n",
    "    \n",
    "    y.axes.get_xaxis().set_visible(False)\n",
    "    y.axes.get_yaxis().set_visible(False)\n",
    "    index += 1\n",
    "    \n",
    "plt.show()"
   ]
  },
  {
   "cell_type": "markdown",
   "metadata": {},
   "source": [
    "# Visualization of each classifier performance"
   ]
  },
  {
   "cell_type": "code",
   "execution_count": 51,
   "metadata": {
    "pycharm": {
     "is_executing": false,
     "metadata": false,
     "name": "#%%\n"
    }
   },
   "outputs": [
    {
     "data": {
      "image/png": "[encoded data removed]",
      "text/plain": [
       "<Figure size 640x480 with 1 Axes>"
      ]
     },
     "metadata": {},
     "output_type": "display_data"
    }
   ],
   "source": [
    "objects = ('LR', 'NBayes', 'DTree', 'KNN', 'K-SVM', 'MLP', 'RForest')\n",
    "y_pos = np.arange(len(objects))\n",
    "performance = [acc1, acc2, acc3, acc4, acc5, acc6, acc7]\n",
    "\n",
    "plt.bar(y_pos, performance, align='center', alpha=0.5)\n",
    "plt.xticks(y_pos, objects)\n",
    "plt.xlabel('Classifiers')\n",
    "plt.ylabel('performance')\n",
    "plt.title('Classification Algorithms\\' Performance')\n",
    "\n",
    "plt.show()\n"
   ]
  },
  {
   "cell_type": "markdown",
   "metadata": {},
   "source": [
    "# Summary of Classifiers' Performance\n",
    "\n",
    "1.\tDecision Tree Algorithm — 100%\n",
    "2.\tKernel SVM — 100%\n",
    "3.\tRandom Forest Classifier — 99.58%\n",
    "4.\tMulti-Layer Perceptron — 89.17%\n",
    "5.\tk-Nearest Neighbor — 75.83%\n",
    "6.\tLogistic Regression — 68.33%\n",
    "7.\tNaive Bayes — 63.33%"
   ]
  }
 ],
 "metadata": {
  "kernelspec": {
   "display_name": "Python 3",
   "language": "python",
   "name": "python3"
  },
  "language_info": {
   "codemirror_mode": {
    "name": "ipython",
    "version": 3
   },
   "file_extension": ".py",
   "mimetype": "text/x-python",
   "name": "python",
   "nbconvert_exporter": "python",
   "pygments_lexer": "ipython3",
   "version": "3.7.1"
  }
 },
 "nbformat": 4,
 "nbformat_minor": 1
}
